{
 "cells": [
  {
   "cell_type": "code",
   "execution_count": 2,
   "metadata": {},
   "outputs": [
    {
     "name": "stdout",
     "output_type": "stream",
     "text": [
      "   sepal_length  sepal_width  petal_length  petal_width species\n",
      "0           5.1          3.5           1.4          0.2  setosa\n",
      "1           4.9          3.0           1.4          0.2  setosa\n",
      "2           4.7          3.2           1.3          0.2  setosa\n",
      "3           4.6          3.1           1.5          0.2  setosa\n",
      "4           5.0          3.6           1.4          0.2  setosa\n"
     ]
    }
   ],
   "source": [
    "import seaborn as sns\n",
    "\n",
    "# Carregar o conjunto de dados iris\n",
    "iris = sns.load_dataset('iris')\n",
    "\n",
    "# Visualizar as primeiras linhas do conjunto de dados\n",
    "print(iris.head())"
   ]
  },
  {
   "cell_type": "code",
   "execution_count": 3,
   "metadata": {},
   "outputs": [],
   "source": [
    "import psycopg2\n",
    "# from psycopg2 import sql\n",
    "# import pandas as pd\n",
    "import io\n",
    "\n",
    "# Conecte-se ao banco de dados\n",
    "conn = psycopg2.connect(\n",
    "    dbname=\"lagoaviva\",\n",
    "    user=\"lagoaviva\",\n",
    "    password=\"l4g04uff\",\n",
    "    host=\"db.cid-uff.net\",\n",
    "    port=\"5432\"\n",
    ")\n",
    "\n",
    "# Crie um cursor\n",
    "cur = conn.cursor()\n",
    "\n",
    "# Crie um objeto StringIO\n",
    "sio = io.StringIO()\n",
    "sio.write(iris.to_csv(index=False, header=False))\n",
    "sio.seek(0)\n",
    "\n",
    "# Copie os dados para a tabela\n",
    "cur.copy_from(sio, \"iris_db\", columns=iris.columns, sep=',')\n",
    "\n",
    "# Commit as alterações\n",
    "conn.commit()\n",
    "\n",
    "# Feche a conexão\n",
    "conn.close()"
   ]
  }
 ],
 "metadata": {
  "kernelspec": {
   "display_name": "Python 3",
   "language": "python",
   "name": "python3"
  },
  "language_info": {
   "codemirror_mode": {
    "name": "ipython",
    "version": 3
   },
   "file_extension": ".py",
   "mimetype": "text/x-python",
   "name": "python",
   "nbconvert_exporter": "python",
   "pygments_lexer": "ipython3",
   "version": "3.10.12"
  }
 },
 "nbformat": 4,
 "nbformat_minor": 2
}
